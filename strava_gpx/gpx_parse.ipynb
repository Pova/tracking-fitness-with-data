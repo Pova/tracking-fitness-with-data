{
 "cells": [
  {
   "cell_type": "markdown",
   "id": "f2632ecf",
   "metadata": {},
   "source": [
    "# Parsing .gpx files with python"
   ]
  },
  {
   "cell_type": "code",
   "execution_count": 1,
   "id": "2e8fc8e5",
   "metadata": {},
   "outputs": [],
   "source": [
    "import os\n",
    "import gpxpy\n",
    "import csv"
   ]
  },
  {
   "cell_type": "code",
   "execution_count": 2,
   "id": "d840816c",
   "metadata": {},
   "outputs": [],
   "source": [
    "def parse_gpx_to_csv(gpx_file, csv_file_path):\n",
    "    \"\"\"\n",
    "    Parse GPX data and write it to a CSV file.\n",
    "\n",
    "    Args:\n",
    "        gpx_file (str): Path to the GPX file.\n",
    "        csv_file (str): Path to the CSV file to be created.\n",
    "\n",
    "    Returns:\n",
    "        bool: True if the parsing and writing are successful, False otherwise.\n",
    "    \"\"\"\n",
    "    try:\n",
    "        # Open the GPX file\n",
    "        with open(gpx_file, 'r') as file:\n",
    "            # Parse the GPX data\n",
    "            gpx = gpxpy.parse(file)\n",
    "            \n",
    "        # Extract the date from the GPX metadata\n",
    "        date = gpx.time.strftime('%Y-%m-%d')\n",
    "\n",
    "        # Create the CSV file name using the extracted date\n",
    "        csv_file_name = f'gpx_output_{date}.csv'\n",
    "\n",
    "\n",
    "        # Create a CSV file\n",
    "        with open(csv_file_path, 'w', newline='') as file:\n",
    "            writer = csv.writer(file)\n",
    "\n",
    "            # Write the header row\n",
    "            writer.writerow(['latitude', 'longitude', 'elevation', 'time'])\n",
    "\n",
    "            # Iterate over track segments and track points\n",
    "            for track in gpx.tracks:\n",
    "                for segment in track.segments:\n",
    "                    for point in segment.points:\n",
    "                        # Write the data row\n",
    "                        writer.writerow([point.latitude, point.longitude, point.elevation, point.time])\n",
    "\n",
    "        return True\n",
    "\n",
    "    except Exception as e:\n",
    "        print(f\"Error: {e}\")\n",
    "        return False"
   ]
  },
  {
   "cell_type": "code",
   "execution_count": 3,
   "id": "29427c34",
   "metadata": {},
   "outputs": [],
   "source": [
    "def process_gpx_files(input_folder_path, output_folder_path):\n",
    "    \"\"\"\n",
    "    Process all GPX files in the input folder and output cleaned CSV files to the output folder.\n",
    "\n",
    "    Args:\n",
    "        input_folder (str): Path to the folder containing GPX files.\n",
    "        output_folder (str): Path to the folder to save cleaned CSV files.\n",
    "\n",
    "    Returns:\n",
    "        None\n",
    "    \"\"\"\n",
    "\n",
    "    # Iterate over the files in the input folder\n",
    "    for filename in os.listdir(input_folder_path):\n",
    "        if filename.endswith('.gpx'):\n",
    "            gpx_file_path = os.path.join(input_folder_path, filename)\n",
    "            csv_file_name = os.path.splitext(filename)[0] + '.csv'\n",
    "            csv_file_path = os.path.join(output_folder_path, csv_file_name)\n",
    "            \n",
    "            # Process the GPX file and save the cleaned CSV file to the output folder\n",
    "            if parse_gpx_to_csv(gpx_file_path, csv_file_path):\n",
    "                print(f\"Processed: {filename}\")\n",
    "            else:\n",
    "                print(f\"Failed to process: {filename}\")"
   ]
  },
  {
   "cell_type": "code",
   "execution_count": 4,
   "id": "86c37591",
   "metadata": {},
   "outputs": [
    {
     "name": "stdout",
     "output_type": "stream",
     "text": [
      "Processed: jog_4.gpx\n",
      "Processed: jog_2.gpx\n",
      "Processed: jog_3.gpx\n",
      "Processed: jog_1.gpx\n"
     ]
    }
   ],
   "source": [
    "input_folder_path = 'strava_gpx_data'\n",
    "output_folder_path = 'strava_clean_csv_data'\n",
    "\n",
    "process_gpx_files(input_folder_path, output_folder_path)"
   ]
  }
 ],
 "metadata": {
  "kernelspec": {
   "display_name": "Python 3 (ipykernel)",
   "language": "python",
   "name": "python3"
  },
  "language_info": {
   "codemirror_mode": {
    "name": "ipython",
    "version": 3
   },
   "file_extension": ".py",
   "mimetype": "text/x-python",
   "name": "python",
   "nbconvert_exporter": "python",
   "pygments_lexer": "ipython3",
   "version": "3.10.9"
  }
 },
 "nbformat": 4,
 "nbformat_minor": 5
}
